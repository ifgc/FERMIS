{
 "cells": [
  {
   "cell_type": "markdown",
   "id": "2915a93c",
   "metadata": {},
   "source": [
    "# Isha|n>'s Intro To Python Data Science for FRC\n",
    "\n",
    "Hello nerds, so you want to learn how to use python to manage and analyse FRC data? Good idea! Lets get started!"
   ]
  },
  {
   "cell_type": "markdown",
   "id": "f2ddda65",
   "metadata": {},
   "source": [
    "## Part 1: Setting up your note book\n",
    "This first cell just imports the neeceary libraires for our code\n",
    "\n",
    "- Pandas is a library that will help us deal with tables, Comma Seperated Value file CSVs and data frames\n",
    "\n",
    "- Matplotlib will allow us to make plots and graphs\n",
    "\n",
    "- Numpy lets us do math more easily and also allows for an altertive ways to create arrays and matrixes"
   ]
  },
  {
   "cell_type": "code",
   "execution_count": 6,
   "id": "06aba0ea",
   "metadata": {},
   "outputs": [],
   "source": [
    "import pandas as pd\n",
    "import matplotlib.pyplot as plt \n",
    "import numpy as np\n"
   ]
  },
  {
   "cell_type": "markdown",
   "id": "1d96d8d8",
   "metadata": {},
   "source": [
    "## Part 2: Understanding DataFrames\n",
    "\n",
    "#### Before we get too far into messing with our new dataframe, we should perhaps understand the structure of a pandas data frame. \n",
    "\n",
    "#### Lets say we had we surveyd 3 cats and asked them their name, species, and favourite FRC teams. We could store each response in an array."
   ]
  },
  {
   "cell_type": "code",
   "execution_count": 16,
   "id": "4f1de2f9",
   "metadata": {},
   "outputs": [],
   "source": [
    "# create array of cat names\n",
    "\n",
    "catName = ['Rupert',\"Chester\", \"Lenny\"]\n",
    "\n",
    "# create array of cat species\n",
    "\n",
    "catSpecies = ['Lynx Lynx','Acinonyx Jubatus','Lynx Canadensis']\n",
    "\n",
    "# create array of cat's fav teams\n",
    "\n",
    "catFavTeam = ['ChainLynx','Jack-in-the-Bot','ChainLynx']"
   ]
  },
  {
   "cell_type": "markdown",
   "id": "0f4eff55",
   "metadata": {},
   "source": [
    "**Now let's say we want to print all the responses from the first respondent. we'd have to call the 0th index which corresponds to the first entry.**"
   ]
  },
  {
   "cell_type": "code",
   "execution_count": 17,
   "id": "983a7e3d",
   "metadata": {},
   "outputs": [
    {
     "name": "stdout",
     "output_type": "stream",
     "text": [
      "['Rupert', 'Chester', 'Lenny']\n"
     ]
    }
   ],
   "source": [
    "print(catName)"
   ]
  },
  {
   "cell_type": "markdown",
   "id": "cec4941c",
   "metadata": {},
   "source": [
    "**We can then combine them do something like this:**"
   ]
  },
  {
   "cell_type": "code",
   "execution_count": 18,
   "id": "fb7ee25b",
   "metadata": {},
   "outputs": [
    {
     "name": "stdout",
     "output_type": "stream",
     "text": [
      "Name: Rupert Species: Lynx Lynx Favourite FRC Team: ChainLynx\n"
     ]
    }
   ],
   "source": [
    "print(f\"Name: {catName[0]} Species: {catSpecies[0]} Favourite FRC Team: {catFavTeam[0]}\")# this is a f print, it allows special formatting with using clunky seprators to make your print statment."
   ]
  },
  {
   "cell_type": "markdown",
   "id": "9199e8b5",
   "metadata": {},
   "source": [
    "NumPy arrays are faster and more compact than Python lists. An numpy array consumes less memory and is convenient to use. NumPy uses much less memory to store data and it provides a mechanism of specifying the data types. This allows the code to be optimized even further. While the nefits are neglible at the scale of your example, they will be benefitial as we scale up."
   ]
  },
  {
   "cell_type": "code",
   "execution_count": 20,
   "id": "a8bc3f46",
   "metadata": {},
   "outputs": [
    {
     "name": "stdout",
     "output_type": "stream",
     "text": [
      "Cat Matrix:\n"
     ]
    },
    {
     "data": {
      "text/plain": [
       "array([['Rupert', 'Rupert', 'ChainLynx'],\n",
       "       ['Chester', 'Chester', 'Jack-in-the-Bot'],\n",
       "       ['Lenny', 'Lenny', 'ChainLynx']], dtype='<U15')"
      ]
     },
     "metadata": {},
     "output_type": "display_data"
    }
   ],
   "source": [
    "# Method 1: Converting lists into numpy arrays\n",
    "catName_np = np.array(catName)\n",
    "catFavTeam_np = np.array(catFavTeam)\n",
    "\n",
    "# Method 2: Converting lists into numpy arrays\n",
    "catSpecies_np = np.array(['Rupert',\"Chester\", \"Lenny\"])\n",
    "\n",
    "# Stack arrays horizontally to make a single np matrix\n",
    "catMatrix = np.column_stack((catName_np, catSpecies_np, catFavTeam_np))\n",
    "\n",
    "print(\"Cat Matrix:\")\n",
    "display(catMatrix)"
   ]
  },
  {
   "cell_type": "markdown",
   "id": "8c68e4cb",
   "metadata": {},
   "source": [
    "**Here are three diffrent ways of combining our data into dataframes. Notice how they all create identical dataframes.**"
   ]
  },
  {
   "cell_type": "code",
   "execution_count": 11,
   "id": "79db0020",
   "metadata": {},
   "outputs": [
    {
     "data": {
      "text/html": [
       "<div>\n",
       "<style scoped>\n",
       "    .dataframe tbody tr th:only-of-type {\n",
       "        vertical-align: middle;\n",
       "    }\n",
       "\n",
       "    .dataframe tbody tr th {\n",
       "        vertical-align: top;\n",
       "    }\n",
       "\n",
       "    .dataframe thead th {\n",
       "        text-align: right;\n",
       "    }\n",
       "</style>\n",
       "<table border=\"1\" class=\"dataframe\">\n",
       "  <thead>\n",
       "    <tr style=\"text-align: right;\">\n",
       "      <th></th>\n",
       "      <th>Name</th>\n",
       "      <th>Species</th>\n",
       "      <th>Favourite FRC Team</th>\n",
       "    </tr>\n",
       "  </thead>\n",
       "  <tbody>\n",
       "    <tr>\n",
       "      <th>0</th>\n",
       "      <td>Rupert</td>\n",
       "      <td>Lynx Lynx</td>\n",
       "      <td>ChainLynx</td>\n",
       "    </tr>\n",
       "    <tr>\n",
       "      <th>1</th>\n",
       "      <td>Chester</td>\n",
       "      <td>Acinonyx Jubatus</td>\n",
       "      <td>Jack-in-the-Bot</td>\n",
       "    </tr>\n",
       "    <tr>\n",
       "      <th>2</th>\n",
       "      <td>Lenny</td>\n",
       "      <td>Lynx Canadensis</td>\n",
       "      <td>ChainLynx</td>\n",
       "    </tr>\n",
       "  </tbody>\n",
       "</table>\n",
       "</div>"
      ],
      "text/plain": [
       "      Name           Species Favourite FRC Team\n",
       "0   Rupert         Lynx Lynx          ChainLynx\n",
       "1  Chester  Acinonyx Jubatus    Jack-in-the-Bot\n",
       "2    Lenny   Lynx Canadensis          ChainLynx"
      ]
     },
     "metadata": {},
     "output_type": "display_data"
    },
    {
     "data": {
      "text/html": [
       "<div>\n",
       "<style scoped>\n",
       "    .dataframe tbody tr th:only-of-type {\n",
       "        vertical-align: middle;\n",
       "    }\n",
       "\n",
       "    .dataframe tbody tr th {\n",
       "        vertical-align: top;\n",
       "    }\n",
       "\n",
       "    .dataframe thead th {\n",
       "        text-align: right;\n",
       "    }\n",
       "</style>\n",
       "<table border=\"1\" class=\"dataframe\">\n",
       "  <thead>\n",
       "    <tr style=\"text-align: right;\">\n",
       "      <th></th>\n",
       "      <th>Name</th>\n",
       "      <th>Species</th>\n",
       "      <th>Favourite FRC Team</th>\n",
       "    </tr>\n",
       "  </thead>\n",
       "  <tbody>\n",
       "    <tr>\n",
       "      <th>0</th>\n",
       "      <td>Rupert</td>\n",
       "      <td>Lynx Lynx</td>\n",
       "      <td>ChainLynx</td>\n",
       "    </tr>\n",
       "    <tr>\n",
       "      <th>1</th>\n",
       "      <td>Chester</td>\n",
       "      <td>Acinonyx Jubatus</td>\n",
       "      <td>Jack-in-the-Bot</td>\n",
       "    </tr>\n",
       "    <tr>\n",
       "      <th>2</th>\n",
       "      <td>Lenny</td>\n",
       "      <td>Lynx Canadensis</td>\n",
       "      <td>ChainLynx</td>\n",
       "    </tr>\n",
       "    <tr>\n",
       "      <th>3</th>\n",
       "      <td>709</td>\n",
       "      <td>989</td>\n",
       "      <td>1701</td>\n",
       "    </tr>\n",
       "  </tbody>\n",
       "</table>\n",
       "</div>"
      ],
      "text/plain": [
       "      Name           Species Favourite FRC Team\n",
       "0   Rupert         Lynx Lynx          ChainLynx\n",
       "1  Chester  Acinonyx Jubatus    Jack-in-the-Bot\n",
       "2    Lenny   Lynx Canadensis          ChainLynx\n",
       "3      709               989               1701"
      ]
     },
     "metadata": {},
     "output_type": "display_data"
    },
    {
     "data": {
      "text/html": [
       "<div>\n",
       "<style scoped>\n",
       "    .dataframe tbody tr th:only-of-type {\n",
       "        vertical-align: middle;\n",
       "    }\n",
       "\n",
       "    .dataframe tbody tr th {\n",
       "        vertical-align: top;\n",
       "    }\n",
       "\n",
       "    .dataframe thead th {\n",
       "        text-align: right;\n",
       "    }\n",
       "</style>\n",
       "<table border=\"1\" class=\"dataframe\">\n",
       "  <thead>\n",
       "    <tr style=\"text-align: right;\">\n",
       "      <th></th>\n",
       "      <th>Name</th>\n",
       "      <th>Species</th>\n",
       "      <th>Favourite FRC Team</th>\n",
       "    </tr>\n",
       "  </thead>\n",
       "  <tbody>\n",
       "    <tr>\n",
       "      <th>0</th>\n",
       "      <td>Rupert</td>\n",
       "      <td>Lynx Lynx</td>\n",
       "      <td>ChainLynx</td>\n",
       "    </tr>\n",
       "    <tr>\n",
       "      <th>1</th>\n",
       "      <td>Chester</td>\n",
       "      <td>Acinonyx Jubatus</td>\n",
       "      <td>Jack-in-the-Bot</td>\n",
       "    </tr>\n",
       "    <tr>\n",
       "      <th>2</th>\n",
       "      <td>Lenny</td>\n",
       "      <td>Lynx Canadensis</td>\n",
       "      <td>ChainLynx</td>\n",
       "    </tr>\n",
       "    <tr>\n",
       "      <th>3</th>\n",
       "      <td>709</td>\n",
       "      <td>989</td>\n",
       "      <td>1701</td>\n",
       "    </tr>\n",
       "  </tbody>\n",
       "</table>\n",
       "</div>"
      ],
      "text/plain": [
       "      Name           Species Favourite FRC Team\n",
       "0   Rupert         Lynx Lynx          ChainLynx\n",
       "1  Chester  Acinonyx Jubatus    Jack-in-the-Bot\n",
       "2    Lenny   Lynx Canadensis          ChainLynx\n",
       "3      709               989               1701"
      ]
     },
     "metadata": {},
     "output_type": "display_data"
    }
   ],
   "source": [
    "# creating a dataframe\n",
    "catDFV1= pd.DataFrame({'Name': ['Rupert',\"Chester\", \"Lenny\"], 'Species': ['Lynx Lynx','Acinonyx Jubatus','Lynx Canadensis'], 'Favourite FRC Team': ['ChainLynx','Jack-in-the-Bot','ChainLynx']})\n",
    "catDFV2= pd.DataFrame({'Name': catName, 'Species': catSpecies_np, 'Favourite FRC Team': catFavTeam})\n",
    "catDFV3= pd.DataFrame(data = catMatrix, columns=['Name', 'Species','Favourite FRC Team'])\n",
    "\n",
    "# displaying the dataframe\n",
    "display(catDFV1) #note how we use display instead of print\n",
    "display(catDFV2) \n",
    "display(catDFV3) "
   ]
  },
  {
   "cell_type": "markdown",
   "id": "4fed0274",
   "metadata": {},
   "source": []
  },
  {
   "cell_type": "markdown",
   "id": "c6c81755",
   "metadata": {},
   "source": [
    "## Part 3: Plotting with DataFrame"
   ]
  },
  {
   "cell_type": "markdown",
   "id": "79b3e449",
   "metadata": {},
   "source": [
    "**Ok now lets say we wanted to plot a histogram of what the most common favourite team was. A histogram is a graphical representation of continous data where the area of each bar correlates to frequency of occurence.**"
   ]
  },
  {
   "cell_type": "code",
   "execution_count": 12,
   "id": "481ecbfc",
   "metadata": {},
   "outputs": [
    {
     "data": {
      "image/png": "[encoded data removed]",
      "text/plain": [
       "<Figure size 1500x500 with 3 Axes>"
      ]
     },
     "metadata": {},
     "output_type": "display_data"
    }
   ],
   "source": [
    "# Create 1x3 subplots\n",
    "fig, axs = plt.subplots(1, 3, figsize=(15, 5))\n",
    "\n",
    "# Plot histogram for 'Name'\n",
    "axs[0].hist(catDFV3['Name'], color='r', edgecolor='black')\n",
    "axs[0].set_ylim(0,3)\n",
    "axs[0].set_title('Name')\n",
    "\n",
    "# Plot histogram for 'Species'\n",
    "axs[1].hist(catDFV3['Species'], color='g', edgecolor='black')\n",
    "axs[1].set_ylim(0,3)\n",
    "axs[1].set_title('Species')\n",
    "\n",
    "# Plot histogram for 'Favourite FRC Team'\n",
    "axs[2].hist(catDFV3['Favourite FRC Team'], color='b', edgecolor='black')\n",
    "axs[2].set_ylim(0,3)\n",
    "axs[2].set_title('Favourite FRC Team')\n",
    "\n",
    "# Show the plot\n",
    "plt.show()\n"
   ]
  },
  {
   "cell_type": "markdown",
   "id": "a559e626",
   "metadata": {},
   "source": [
    "## Part 4: Data Frame operations"
   ]
  },
  {
   "cell_type": "code",
   "execution_count": null,
   "id": "1f82e2ef",
   "metadata": {},
   "outputs": [],
   "source": []
  },
  {
   "cell_type": "markdown",
   "id": "4b0ee3e2",
   "metadata": {},
   "source": [
    "## Part ???: Importing Master Scouting Data\n",
    "Im going to assume you've already converted data into a CSV. If not get your spreadsheet, it should be File>>Download>>CSV."
   ]
  },
  {
   "cell_type": "code",
   "execution_count": null,
   "id": "ceda0c69",
   "metadata": {},
   "outputs": [],
   "source": [
    "masterScoutingDF = pd.read_csv('ScoutingFRCFiles/MasterScoutingData3.csv') \n",
    "display(masterScoutingDF)\n",
    "masterScoutingDF['2024 PSEFS (initial)'] = masterScoutingDF['2024 PSEFS (initial)'].str.replace('-','10')\n",
    "masterScoutingDF['2024 PSEFS (initial)'] = masterScoutingDF['2024 PSEFS (initial)'].astype('int64')"
   ]
  },
  {
   "cell_type": "code",
   "execution_count": null,
   "id": "f8d28f69",
   "metadata": {},
   "outputs": [],
   "source": [
    "# Create 1x3 subplots\n",
    "                                                                                                \n",
    "                                                                                                \n",
    "fig, axs = plt.subplots(3, 1, figsize=(15, 10))\n",
    "# Filter the DataFrame to only include rows where '2024 PSEFS (initial)' is <= 5\n",
    "filteredDF = masterScoutingDF[masterScoutingDF['2024 PSEFS (initial)'] <= 5]\n",
    "\n",
    "# Then plot using the filtered DataFrame\n",
    "axs[0].plot(filteredDF['#'], filteredDF['2024 PSEFS (initial)'], 'o-', color='r')\n",
    "\n",
    "\n",
    "axs[0].set_ylim(-1,5.5)\n",
    "axs[0].set_title('Name')\n",
    "\n",
    "# Plot histogram for 'Species'\n",
    "axs[1].scatter( filteredDF['2024 PSEFS (initial)'], filteredDF['Rookie Year'], color='r', edgecolor='black')\n",
    "axs[1].set_title('Species')\n",
    "\n",
    "# Plot histogram for 'Species'\n",
    "axs[2].scatter( filteredDF['Years Competed'], filteredDF['2024 PSEFS (initial)'], color='r', edgecolor='black')\n",
    "axs[2].set_title('Species')\n",
    "\n"
   ]
  },
  {
   "cell_type": "code",
   "execution_count": null,
   "id": "acb76fb6",
   "metadata": {},
   "outputs": [],
   "source": []
  },
  {
   "cell_type": "code",
   "execution_count": null,
   "id": "d2e286ed",
   "metadata": {},
   "outputs": [],
   "source": []
  },
  {
   "cell_type": "code",
   "execution_count": null,
   "id": "de626bdd",
   "metadata": {},
   "outputs": [],
   "source": []
  }
 ],
 "metadata": {
  "kernelspec": {
   "display_name": "my_enviroment",
   "language": "python",
   "name": "my_enviroment"
  },
  "language_info": {
   "codemirror_mode": {
    "name": "ipython",
    "version": 3
   },
   "file_extension": ".py",
   "mimetype": "text/x-python",
   "name": "python",
   "nbconvert_exporter": "python",
   "pygments_lexer": "ipython3",
   "version": "3.8.16"
  }
 },
 "nbformat": 4,
 "nbformat_minor": 5
}
